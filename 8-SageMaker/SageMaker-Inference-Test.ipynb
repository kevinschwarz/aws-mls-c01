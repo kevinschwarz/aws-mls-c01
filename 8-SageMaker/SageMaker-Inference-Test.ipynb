{
 "cells": [
  {
   "cell_type": "markdown",
   "id": "settled-anchor",
   "metadata": {},
   "source": [
    "![@mikegchambers](../images/header.png)"
   ]
  },
  {
   "cell_type": "markdown",
   "id": "wrapped-mathematics",
   "metadata": {},
   "source": [
    "# Making Inference on a SageMaker Endpoint\n",
    "\n",
    "In this notebook, we look at a couple of different ways to make inference on SageMaker endpoints.\n",
    "\n",
    "Before running this notebook, you should have already created and have a running an endpoint to test."
   ]
  },
  {
   "cell_type": "markdown",
   "id": "strategic-threat",
   "metadata": {},
   "source": [
    "## Test Images\n",
    "\n",
    "To help with testing we have some images to test with.  If the endpoint does not use images, or if you have alternative images to test with feel free to use other data. "
   ]
  },
  {
   "cell_type": "markdown",
   "id": "hired-proposal",
   "metadata": {},
   "source": [
    " <table style=\"width:100%\">\n",
    "  <tr>\n",
    "    <th>File</th>\n",
    "    <th>Image</th>\n",
    "  </tr>\n",
    "  <tr>\n",
    "    <td>./test-images/plane.jpg</td>\n",
    "    <td><img src=\"./test-images/plane.jpg\" height=\"200px\" width=\"200px\"/></td>\n",
    "  </tr>\n",
    "  <tr>\n",
    "    <td>./test-images/ship.jpg</td>\n",
    "    <td><img src=\"./test-images/ship.jpg\" height=\"200px\" width=\"200px\"/></td>\n",
    "  </tr>\n",
    "  <tr>\n",
    "    <td>./test-images/car.jpg</td>\n",
    "    <td><img src=\"./test-images/car.jpg\" height=\"200px\" width=\"200px\"/></td>\n",
    "  </tr>\n",
    "</table>"
   ]
  },
  {
   "cell_type": "markdown",
   "id": "exotic-acrylic",
   "metadata": {},
   "source": [
    "## The Boto Python Way\n",
    "\n",
    "First let's look at a way to use Python, using the AWS SDK Boto3, to call the SageMaker endpoint API. \n",
    "\n",
    "### Import Libraries\n",
    "\n",
    "First, we import the Python libraries we need, including Boto3."
   ]
  },
  {
   "cell_type": "code",
   "execution_count": null,
   "id": "threatened-poster",
   "metadata": {},
   "outputs": [],
   "source": [
    "import boto3\n",
    "import json\n",
    "from PIL import Image"
   ]
  },
  {
   "cell_type": "markdown",
   "id": "italic-baptist",
   "metadata": {},
   "source": [
    "Then we create a boto3 client to use."
   ]
  },
  {
   "cell_type": "code",
   "execution_count": null,
   "id": "noble-provision",
   "metadata": {},
   "outputs": [],
   "source": [
    "client = boto3.client('sagemaker-runtime')"
   ]
  },
  {
   "cell_type": "markdown",
   "id": "unsigned-process",
   "metadata": {},
   "source": [
    "### Load data and set variables\n",
    "\n",
    "We have to define a couple of resources.  The SageMaker endpoint that we want to use (this needs to be running already, likely from a previous lesson), and some data to test with."
   ]
  },
  {
   "cell_type": "code",
   "execution_count": null,
   "id": "distinct-sunglasses",
   "metadata": {},
   "outputs": [],
   "source": [
    "# The name of the SageMaker endpoint running in our account.  \n",
    "# Note this needs to be in the same region as this running code. \n",
    "\n",
    "endpointName = 'test-endpoint'"
   ]
  },
  {
   "cell_type": "code",
   "execution_count": 1,
   "id": "mental-platform",
   "metadata": {},
   "outputs": [],
   "source": [
    "# We need to load the binary data of the image into a Python variable.\n",
    "\n",
    "f = open('./test-images/car.jpg', 'rb') # opening a binary file\n",
    "data = f.read()"
   ]
  },
  {
   "cell_type": "markdown",
   "id": "quarterly-companion",
   "metadata": {},
   "source": [
    "### Call the endpoint\n",
    "\n",
    "Here we construct the call to the endpoint and get the result which we store in a variable called `response`.\n",
    "\n",
    "For more details, and to see other parameters that we can pass to the call, see the documentation here:\n",
    "https://boto3.amazonaws.com/v1/documentation/api/latest/reference/services/sagemaker-runtime.html#SageMakerRuntime.Client.invoke_endpoint"
   ]
  },
  {
   "cell_type": "code",
   "execution_count": null,
   "id": "integral-stranger",
   "metadata": {},
   "outputs": [],
   "source": [
    "response = client.invoke_endpoint(\n",
    "    EndpointName=endpointName,\n",
    "    Body=data\n",
    ")"
   ]
  },
  {
   "cell_type": "markdown",
   "id": "breathing-margin",
   "metadata": {},
   "source": [
    "The `response` we get from the function call includes a reference to a stream object.  We need to read this stream to get the inference data we need.\n",
    "\n",
    "We do this with the following line: "
   ]
  },
  {
   "cell_type": "code",
   "execution_count": null,
   "id": "reported-willow",
   "metadata": {},
   "outputs": [],
   "source": [
    "result = json.loads(response['Body'].read().decode())"
   ]
  },
  {
   "cell_type": "markdown",
   "id": "european-moderator",
   "metadata": {},
   "source": [
    "### Results\n",
    "\n",
    "Now let's look at the results.  We get an array with the probability values for each class."
   ]
  },
  {
   "cell_type": "code",
   "execution_count": null,
   "id": "arbitrary-quantum",
   "metadata": {},
   "outputs": [],
   "source": [
    "result"
   ]
  },
  {
   "cell_type": "markdown",
   "id": "accepting-immune",
   "metadata": {},
   "source": [
    "### Making it look pretty (Optional)\n",
    "\n",
    "We have the data, and its a little hard to see what the result is, so let's write a little code to get a better look at the data: "
   ]
  },
  {
   "cell_type": "code",
   "execution_count": null,
   "id": "variable-sector",
   "metadata": {},
   "outputs": [],
   "source": [
    "import numpy as np\n",
    "import matplotlib.pyplot as plt\n",
    "from matplotlib.pyplot import figure"
   ]
  },
  {
   "cell_type": "code",
   "execution_count": null,
   "id": "close-happiness",
   "metadata": {},
   "outputs": [],
   "source": [
    "labels = ['plane', 'car', 'bird', 'cat', 'deer', 'dog', 'frog', 'horse', 'ship', 'truck']"
   ]
  },
  {
   "cell_type": "code",
   "execution_count": null,
   "id": "nonprofit-mexican",
   "metadata": {},
   "outputs": [],
   "source": [
    "figure(num=None, figsize=(8, 5), dpi=80, facecolor='w', edgecolor='k')\n",
    "\n",
    "plt.bar(range(10), result)\n",
    "plt.xticks(range(10), labels)\n",
    "plt.show()"
   ]
  },
  {
   "cell_type": "code",
   "execution_count": null,
   "id": "premier-worthy",
   "metadata": {
    "scrolled": true
   },
   "outputs": [],
   "source": [
    "# And just to get the prediction in text:\n",
    "\n",
    "index_of_prediction = np.argmax(result)\n",
    "label_of_prediciton = labels[index_of_prediction]\n",
    "\n",
    "print(\"This looks like a {}.\".format(label_of_prediciton))"
   ]
  },
  {
   "cell_type": "markdown",
   "id": "passive-spectrum",
   "metadata": {},
   "source": [
    "## The Command-Line Way\n",
    "\n",
    "There are other ways to call the SageMaker endpoint.  Here we use the AWS CLI to call `sagemaker-runtime invoke-endpoint`. "
   ]
  },
  {
   "cell_type": "code",
   "execution_count": null,
   "id": "antique-harvey",
   "metadata": {},
   "outputs": [],
   "source": [
    "! aws sagemaker-runtime invoke-endpoint --endpoint-name test --region us-east-1 --body fileb://./test-images/plane.jpg output.txt"
   ]
  },
  {
   "cell_type": "code",
   "execution_count": null,
   "id": "large-diagram",
   "metadata": {},
   "outputs": [],
   "source": [
    "! cat output.txt"
   ]
  },
  {
   "cell_type": "code",
   "execution_count": null,
   "id": "going-college",
   "metadata": {},
   "outputs": [],
   "source": []
  }
 ],
 "metadata": {
  "kernelspec": {
   "display_name": "conda_python3",
   "language": "python",
   "name": "conda_python3"
  },
  "language_info": {
   "codemirror_mode": {
    "name": "ipython",
    "version": 3
   },
   "file_extension": ".py",
   "mimetype": "text/x-python",
   "name": "python",
   "nbconvert_exporter": "python",
   "pygments_lexer": "ipython3",
   "version": "3.6.10"
  }
 },
 "nbformat": 4,
 "nbformat_minor": 5
}
