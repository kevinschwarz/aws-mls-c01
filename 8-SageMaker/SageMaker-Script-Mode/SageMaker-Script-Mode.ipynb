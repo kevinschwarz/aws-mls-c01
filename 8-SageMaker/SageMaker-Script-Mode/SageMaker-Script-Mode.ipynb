{
 "cells": [
  {
   "cell_type": "markdown",
   "id": "800783c4",
   "metadata": {},
   "source": [
    "![@mikegchambers](../../images/header.png)"
   ]
  },
  {
   "cell_type": "markdown",
   "id": "bc2cbc90",
   "metadata": {},
   "source": [
    "# SageMaker SDK - Training a model in 'script mode' and deploying the endpoint. \n",
    "\n",
    "In this notebook we will look at how models can be trained, saved, loaded and run.  Then we will see how the same thing can be achived using the SageMaker SDK, and SageMaker managed infrastructure. \n",
    "\n",
    "This notebook represents a massively over engineered excercise, however the principles, if not the code itself, and be leveraged for much bigger projects."
   ]
  },
  {
   "cell_type": "markdown",
   "id": "1d8a7393",
   "metadata": {},
   "source": [
    "# Create a dataset and save"
   ]
  },
  {
   "cell_type": "code",
   "execution_count": null,
   "id": "db1693d5",
   "metadata": {},
   "outputs": [],
   "source": [
    "from sklearn import datasets\n",
    "import pickle"
   ]
  },
  {
   "cell_type": "code",
   "execution_count": null,
   "id": "d7bfe728",
   "metadata": {},
   "outputs": [],
   "source": [
    "X, y = datasets.make_regression(100, 1, noise=5, bias=0)"
   ]
  },
  {
   "cell_type": "code",
   "execution_count": null,
   "id": "631eb2e6",
   "metadata": {},
   "outputs": [],
   "source": [
    "pickle.dump([X,y], open('./train/train.pickle', 'wb'))"
   ]
  },
  {
   "cell_type": "markdown",
   "id": "28947a63",
   "metadata": {},
   "source": [
    "# Create a model from the dataset"
   ]
  },
  {
   "cell_type": "code",
   "execution_count": null,
   "id": "62482a9d",
   "metadata": {},
   "outputs": [],
   "source": [
    "from sklearn.linear_model import LinearRegression\n",
    "import pickle"
   ]
  },
  {
   "cell_type": "code",
   "execution_count": null,
   "id": "9d337366",
   "metadata": {},
   "outputs": [],
   "source": [
    "[XX, yy] = pickle.load(open('./train/train.pickle', 'rb'))"
   ]
  },
  {
   "cell_type": "code",
   "execution_count": null,
   "id": "694175a8",
   "metadata": {},
   "outputs": [],
   "source": [
    "model = LinearRegression()"
   ]
  },
  {
   "cell_type": "code",
   "execution_count": null,
   "id": "b70c05c2",
   "metadata": {},
   "outputs": [],
   "source": [
    "model.fit(XX,yy)"
   ]
  },
  {
   "cell_type": "markdown",
   "id": "13937596",
   "metadata": {},
   "source": [
    "## Make a test prediction"
   ]
  },
  {
   "cell_type": "code",
   "execution_count": null,
   "id": "2bee69ae",
   "metadata": {},
   "outputs": [],
   "source": [
    "model.predict([[0],[1],[2],[3]])"
   ]
  },
  {
   "cell_type": "markdown",
   "id": "9705bce1",
   "metadata": {},
   "source": [
    "# Save the model to a file"
   ]
  },
  {
   "cell_type": "code",
   "execution_count": null,
   "id": "6eb3679f",
   "metadata": {},
   "outputs": [],
   "source": [
    "p = pickle.dumps(model)"
   ]
  },
  {
   "cell_type": "code",
   "execution_count": null,
   "id": "b6ae3c11",
   "metadata": {},
   "outputs": [],
   "source": [
    "pickle.dump(model, open('./model/model.pickle', 'wb'))"
   ]
  },
  {
   "cell_type": "markdown",
   "id": "12431fc3",
   "metadata": {},
   "source": [
    "# Later load the model from a file"
   ]
  },
  {
   "cell_type": "code",
   "execution_count": null,
   "id": "0a6fd79b",
   "metadata": {},
   "outputs": [],
   "source": [
    "from sklearn.linear_model import LinearRegression\n",
    "import pickle"
   ]
  },
  {
   "cell_type": "code",
   "execution_count": null,
   "id": "db21891d",
   "metadata": {},
   "outputs": [],
   "source": [
    "loaded_model = pickle.load(open('./model/model.pickle', 'rb'))"
   ]
  },
  {
   "cell_type": "markdown",
   "id": "26808cba",
   "metadata": {},
   "source": [
    "## Make a test prediction"
   ]
  },
  {
   "cell_type": "code",
   "execution_count": null,
   "id": "0ce401ea",
   "metadata": {},
   "outputs": [],
   "source": [
    "loaded_model.predict([[0],[1],[2],[3]])"
   ]
  },
  {
   "cell_type": "markdown",
   "id": "3ba5957a",
   "metadata": {},
   "source": [
    "# SageMaker Training"
   ]
  },
  {
   "cell_type": "code",
   "execution_count": null,
   "id": "804678f4",
   "metadata": {},
   "outputs": [],
   "source": [
    "import sagemaker\n",
    "from sagemaker.sklearn.estimator import SKLearn\n",
    "import boto3\n",
    "import os"
   ]
  },
  {
   "cell_type": "markdown",
   "id": "fa13da2f",
   "metadata": {},
   "source": [
    "Create some variables that will be used through this process:"
   ]
  },
  {
   "cell_type": "code",
   "execution_count": null,
   "id": "3bb3c65c",
   "metadata": {},
   "outputs": [],
   "source": [
    "role = sagemaker.get_execution_role()\n",
    "sess = sagemaker.Session()\n",
    "bucket = sess.default_bucket()\n",
    "\n",
    "s3_prefix = \"script-mode-workflow\"\n",
    "pickle_s3_prefix = f\"{s3_prefix}/pickle\"\n",
    "pickle_s3_uri = f\"s3://{bucket}/{s3_prefix}/pickle\"\n",
    "pickle_train_s3_uri = f\"{pickle_s3_uri}/train\"\n",
    "\n",
    "train_dir = os.path.join(os.getcwd(), \"train\")"
   ]
  },
  {
   "cell_type": "markdown",
   "id": "d529f9e9",
   "metadata": {},
   "source": [
    "Upload the training data to S3, so it's available for SageMaker training:"
   ]
  },
  {
   "cell_type": "code",
   "execution_count": null,
   "id": "5a37d894",
   "metadata": {},
   "outputs": [],
   "source": [
    "s3_resource_bucket = boto3.Session().resource(\"s3\").Bucket(bucket)\n",
    "s3_resource_bucket.Object(os.path.join(pickle_s3_prefix, \"train.pickle\")).upload_file(\n",
    "    train_dir + \"/train.pickle\"\n",
    ")"
   ]
  },
  {
   "cell_type": "markdown",
   "id": "6f91820d",
   "metadata": {},
   "source": [
    "Create some hyperparameters:"
   ]
  },
  {
   "cell_type": "code",
   "execution_count": null,
   "id": "934ef47d",
   "metadata": {},
   "outputs": [],
   "source": [
    "# This is not required as these values are the defaults:\n",
    "\n",
    "hyperparameters = {\n",
    "    \"copy_X\": True,\n",
    "    \"fit_intercept\": True,\n",
    "    \"normalize\": False,\n",
    "}"
   ]
  },
  {
   "cell_type": "markdown",
   "id": "1b1cf2ff",
   "metadata": {},
   "source": [
    "More configuration for the model:"
   ]
  },
  {
   "cell_type": "code",
   "execution_count": null,
   "id": "72b7dea4",
   "metadata": {},
   "outputs": [],
   "source": [
    "train_instance_type = \"ml.m5.large\"\n",
    "\n",
    "inputs = {\n",
    "    \"train\": pickle_train_s3_uri\n",
    "}"
   ]
  },
  {
   "cell_type": "markdown",
   "id": "799ce250",
   "metadata": {},
   "source": [
    "The SageMaker Estimator object is a high level interface for SageMaker training.  This object represents the algorithm, the data, and other configuration. \n",
    "\n",
    "https://sagemaker.readthedocs.io/en/stable/api/training/estimators.html"
   ]
  },
  {
   "cell_type": "code",
   "execution_count": null,
   "id": "7136a9bc",
   "metadata": {},
   "outputs": [],
   "source": [
    "estimator_parameters = {\n",
    "    \"entry_point\": \"script.py\",\n",
    "    \"source_dir\": \"script\",\n",
    "    \"framework_version\": \"0.23-1\",\n",
    "    \"py_version\": \"py3\",\n",
    "    \"instance_type\": train_instance_type,\n",
    "    \"instance_count\": 1,\n",
    "    \"hyperparameters\": hyperparameters,\n",
    "    \"role\": role,\n",
    "    \"base_job_name\": \"linearregression-model\",\n",
    "}\n",
    "\n",
    "estimator = SKLearn(**estimator_parameters)"
   ]
  },
  {
   "cell_type": "markdown",
   "id": "b480a04a",
   "metadata": {},
   "source": [
    "When we call 'fit' SageMaker will spin up managed containers, transfer the code and data to the container and then start the training.  All this happens off of the notebook server.  We can watch the training through the console, and watch the logs in CloudWatch Logs."
   ]
  },
  {
   "cell_type": "code",
   "execution_count": null,
   "id": "bce6d323",
   "metadata": {},
   "outputs": [],
   "source": [
    "estimator.fit(inputs)"
   ]
  },
  {
   "cell_type": "markdown",
   "id": "15f09600",
   "metadata": {},
   "source": [
    "# SageMaker Endpoint"
   ]
  },
  {
   "cell_type": "markdown",
   "id": "f1abcd2c",
   "metadata": {},
   "source": [
    "We can now take create a 'predictor' by deploying the estimator.  Then we can use it to make new predictions.\n",
    "\n",
    "(Make sure that the 'endpoint_name' used is not currently running.)"
   ]
  },
  {
   "cell_type": "code",
   "execution_count": null,
   "id": "9ca57da8",
   "metadata": {},
   "outputs": [],
   "source": [
    "sklearn_predictor = estimator.deploy(initial_instance_count=1,\n",
    "                                     instance_type='ml.m5.large',\n",
    "                                     endpoint_name='linearregression-endpoint')"
   ]
  },
  {
   "cell_type": "code",
   "execution_count": null,
   "id": "e882638f",
   "metadata": {},
   "outputs": [],
   "source": [
    "sklearn_predictor.predict([[0],[1],[2],[3]])"
   ]
  },
  {
   "cell_type": "markdown",
   "id": "92b4c37e",
   "metadata": {},
   "source": [
    "## Clean up"
   ]
  },
  {
   "cell_type": "markdown",
   "id": "e833a233",
   "metadata": {},
   "source": [
    "Running this cell will remove the endpoint and configuration:"
   ]
  },
  {
   "cell_type": "code",
   "execution_count": null,
   "id": "3866d09b",
   "metadata": {},
   "outputs": [],
   "source": [
    "sklearn_predictor.delete_endpoint(True)"
   ]
  },
  {
   "cell_type": "code",
   "execution_count": null,
   "id": "00cdb96e",
   "metadata": {},
   "outputs": [],
   "source": []
  }
 ],
 "metadata": {
  "kernelspec": {
   "display_name": "conda_python3",
   "language": "python",
   "name": "conda_python3"
  },
  "language_info": {
   "codemirror_mode": {
    "name": "ipython",
    "version": 3
   },
   "file_extension": ".py",
   "mimetype": "text/x-python",
   "name": "python",
   "nbconvert_exporter": "python",
   "pygments_lexer": "ipython3",
   "version": "3.6.13"
  }
 },
 "nbformat": 4,
 "nbformat_minor": 5
}
