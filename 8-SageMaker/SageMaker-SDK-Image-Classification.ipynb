{
 "cells": [
  {
   "cell_type": "markdown",
   "id": "permanent-antarctica",
   "metadata": {},
   "source": [
    "![@mikegchambers](../images/header.png)"
   ]
  },
  {
   "cell_type": "markdown",
   "id": "oriental-walter",
   "metadata": {},
   "source": [
    "# Image Classification with SageMaker built-in algorithm\n",
    "\n",
    "In this notebook, we use the SageMaker SDK to train an image classification model from an Amazon SageMaker built-in algorithm."
   ]
  },
  {
   "cell_type": "markdown",
   "id": "pleasant-kinase",
   "metadata": {},
   "source": [
    "## Import Libraries"
   ]
  },
  {
   "cell_type": "code",
   "execution_count": 1,
   "id": "usual-raleigh",
   "metadata": {},
   "outputs": [],
   "source": [
    "import sagemaker\n",
    "import json \n",
    "import numpy as np\n",
    "import matplotlib.pyplot as plt\n",
    "from matplotlib.pyplot import figure"
   ]
  },
  {
   "cell_type": "markdown",
   "id": "divine-athletics",
   "metadata": {},
   "source": [
    "## Setup the SageMaker session \n",
    "\n",
    "The SageMaker SDK has some convenience methods for getting a reference to a role, setting up a session, and getting the location of a 'default' bucket that can be used."
   ]
  },
  {
   "cell_type": "code",
   "execution_count": 2,
   "id": "sixth-refund",
   "metadata": {},
   "outputs": [],
   "source": [
    "role = sagemaker.get_execution_role()\n",
    "sess = sagemaker.Session()\n",
    "bucket=sess.default_bucket()"
   ]
  },
  {
   "cell_type": "markdown",
   "id": "discrete-columbus",
   "metadata": {},
   "source": [
    "## Locate Data\n",
    "\n",
    "When the SageMaker container launches, we will pass in the location of the training data.  The data is expected to be in an S3 bucket.  We set this here such that we can use it later.  The location of this data is in a publicly accessible bucket in one of my accounts.  \n",
    "\n",
    "We also set the location where we will save the completed model."
   ]
  },
  {
   "cell_type": "code",
   "execution_count": 10,
   "id": "associate-plant",
   "metadata": {},
   "outputs": [],
   "source": [
    "s3train = 's3://aws-mls-c01/cifar10/train/cifar10_train.rec'\n",
    "s3validation = 's3://aws-mls-c01/cifar10/validation/cifar10_val.rec'\n",
    "\n",
    "s3_output_location = 's3://{}/image-classificaiton/output'.format(bucket)"
   ]
  },
  {
   "cell_type": "markdown",
   "id": "expired-falls",
   "metadata": {},
   "source": [
    "## Define the training image\n",
    "\n",
    "Here we point SageMaker to the container we want to use.  In this case, the built in 'image-classification' algorithm/container is being used."
   ]
  },
  {
   "cell_type": "code",
   "execution_count": 11,
   "id": "vocational-disposition",
   "metadata": {},
   "outputs": [],
   "source": [
    "training_image = sagemaker.image_uris.retrieve('image-classification', region='us-east-1')"
   ]
  },
  {
   "cell_type": "markdown",
   "id": "sticky-danger",
   "metadata": {},
   "source": [
    "## Create a SageMaker Estimator\n",
    "\n",
    "The SageMaker Estimator is one of the key object types in the SageMaker SDK.  Here we initialise the estimator specifying the instance type, how many instances we want to use, and other parameters including the use of spot instances. \n",
    "\n",
    "This is how SageMaker manages infrastructure for us with a simple SDK call to the API."
   ]
  },
  {
   "cell_type": "code",
   "execution_count": 12,
   "id": "reflected-porcelain",
   "metadata": {},
   "outputs": [],
   "source": [
    "ic = sagemaker.estimator.Estimator( training_image,\n",
    "                                    role, \n",
    "                                    instance_count=1, \n",
    "                                    instance_type='ml.p3.16xlarge',\n",
    "                                    volume_size = 50,\n",
    "                                    max_run = 7200,\n",
    "                                    input_mode= 'File',\n",
    "                                    output_path=s3_output_location,\n",
    "                                    sagemaker_session=sess,\n",
    "                                    use_spot_instances=True,\n",
    "                                    max_wait=7200)"
   ]
  },
  {
   "cell_type": "markdown",
   "id": "finnish-finish",
   "metadata": {},
   "source": [
    "Then we set some hyperparameters:"
   ]
  },
  {
   "cell_type": "code",
   "execution_count": 13,
   "id": "unauthorized-crest",
   "metadata": {},
   "outputs": [],
   "source": [
    "ic.set_hyperparameters(             use_pretrained_model=1,\n",
    "                                    num_layers=50,\n",
    "                                    image_shape = \"3,32,32\",\n",
    "                                    num_classes=10,\n",
    "                                    num_training_samples=50000,\n",
    "                                    mini_batch_size=64,\n",
    "                                    epochs=5,\n",
    "                                    learning_rate=0.001,\n",
    "                                    optimizer='adam')"
   ]
  },
  {
   "cell_type": "markdown",
   "id": "virtual-moses",
   "metadata": {},
   "source": [
    "Define our input channels:"
   ]
  },
  {
   "cell_type": "code",
   "execution_count": 14,
   "id": "celtic-dynamics",
   "metadata": {},
   "outputs": [],
   "source": [
    "train_data = sagemaker.inputs.TrainingInput(     s3train, \n",
    "                                                 distribution='FullyReplicated', \n",
    "                                                 content_type='application/x-recordio', \n",
    "                                                 s3_data_type='S3Prefix')\n",
    "\n",
    "validation_data = sagemaker.inputs.TrainingInput(s3validation, \n",
    "                                                 distribution='FullyReplicated', \n",
    "                                                 content_type='application/x-recordio', \n",
    "                                                 s3_data_type='S3Prefix')\n",
    "\n",
    "data_channels = {'train': train_data, 'validation': validation_data}"
   ]
  },
  {
   "cell_type": "markdown",
   "id": "hollow-coalition",
   "metadata": {},
   "source": [
    "## Train the model\n",
    "\n",
    "And finally, we call `fit` to train the model."
   ]
  },
  {
   "cell_type": "code",
   "execution_count": 15,
   "id": "capable-guard",
   "metadata": {
    "scrolled": false
   },
   "outputs": [
    {
     "name": "stdout",
     "output_type": "stream",
     "text": [
      "2021-03-04 11:08:42 Starting - Starting the training job...\n",
      "2021-03-04 11:09:06 Starting - Launching requested ML instancesProfilerReport-1614856121: InProgress\n",
      ".........\n",
      "2021-03-04 11:10:29 Starting - Preparing the instances for training......\n",
      "2021-03-04 11:11:37 Downloading - Downloading input data...\n",
      "2021-03-04 11:12:08 Training - Downloading the training image......\n",
      "2021-03-04 11:13:11 Training - Training image download completed. Training in progress..\u001b[34mDocker entrypoint called with argument(s): train\u001b[0m\n",
      "\u001b[34m[03/04/2021 11:13:15 INFO 140410731967616] Reading default configuration from /opt/amazon/lib/python2.7/site-packages/image_classification/default-input.json: {u'beta_1': 0.9, u'gamma': 0.9, u'beta_2': 0.999, u'optimizer': u'sgd', u'use_pretrained_model': 0, u'eps': 1e-08, u'epochs': 30, u'lr_scheduler_factor': 0.1, u'num_layers': 152, u'image_shape': u'3,224,224', u'precision_dtype': u'float32', u'mini_batch_size': 32, u'weight_decay': 0.0001, u'learning_rate': 0.1, u'momentum': 0}\u001b[0m\n",
      "\u001b[34m[03/04/2021 11:13:15 INFO 140410731967616] Merging with provided configuration from /opt/ml/input/config/hyperparameters.json: {u'learning_rate': u'0.001', u'optimizer': u'adam', u'use_pretrained_model': u'1', u'epochs': u'5', u'num_training_samples': u'50000', u'num_layers': u'50', u'mini_batch_size': u'64', u'image_shape': u'3,32,32', u'num_classes': u'10'}\u001b[0m\n",
      "\u001b[34m[03/04/2021 11:13:15 INFO 140410731967616] Final configuration: {u'optimizer': u'adam', u'learning_rate': u'0.001', u'epochs': u'5', u'lr_scheduler_factor': 0.1, u'num_layers': u'50', u'precision_dtype': u'float32', u'mini_batch_size': u'64', u'num_classes': u'10', u'beta_1': 0.9, u'beta_2': 0.999, u'use_pretrained_model': u'1', u'eps': 1e-08, u'weight_decay': 0.0001, u'momentum': 0, u'image_shape': u'3,32,32', u'gamma': 0.9, u'num_training_samples': u'50000'}\u001b[0m\n",
      "\u001b[34m[03/04/2021 11:13:15 INFO 140410731967616] Searching for .rec files in /opt/ml/input/data/train.\u001b[0m\n",
      "\u001b[34m[03/04/2021 11:13:15 INFO 140410731967616] Searching for .rec files in /opt/ml/input/data/validation.\u001b[0m\n",
      "\u001b[34m[03/04/2021 11:13:15 INFO 140410731967616] use_pretrained_model: 1\u001b[0m\n",
      "\u001b[34m[03/04/2021 11:13:15 INFO 140410731967616] multi_label: 0\u001b[0m\n",
      "\u001b[34m[03/04/2021 11:13:15 INFO 140410731967616] Using pretrained model for initializing weights and transfer learning.\u001b[0m\n",
      "\u001b[34m[03/04/2021 11:13:15 INFO 140410731967616] ---- Parameters ----\u001b[0m\n",
      "\u001b[34m[03/04/2021 11:13:15 INFO 140410731967616] num_layers: 50\u001b[0m\n",
      "\u001b[34m[03/04/2021 11:13:15 INFO 140410731967616] data type: <type 'numpy.float32'>\u001b[0m\n",
      "\u001b[34m[03/04/2021 11:13:15 INFO 140410731967616] epochs: 5\u001b[0m\n",
      "\u001b[34m[03/04/2021 11:13:15 INFO 140410731967616] optimizer: adam\u001b[0m\n",
      "\u001b[34m[03/04/2021 11:13:15 INFO 140410731967616] beta_1: 0.9\u001b[0m\n",
      "\u001b[34m[03/04/2021 11:13:15 INFO 140410731967616] beta_2: 0.999\u001b[0m\n",
      "\u001b[34m[03/04/2021 11:13:15 INFO 140410731967616] eps: 1e-08\u001b[0m\n",
      "\u001b[34m[03/04/2021 11:13:15 INFO 140410731967616] learning_rate: 0.001\u001b[0m\n",
      "\u001b[34m[03/04/2021 11:13:15 INFO 140410731967616] num_training_samples: 50000\u001b[0m\n",
      "\u001b[34m[03/04/2021 11:13:15 INFO 140410731967616] mini_batch_size: 64\u001b[0m\n",
      "\u001b[34m[03/04/2021 11:13:15 INFO 140410731967616] image_shape: 3,32,32\u001b[0m\n",
      "\u001b[34m[03/04/2021 11:13:15 INFO 140410731967616] num_classes: 10\u001b[0m\n",
      "\u001b[34m[03/04/2021 11:13:15 INFO 140410731967616] augmentation_type: None\u001b[0m\n",
      "\u001b[34m[03/04/2021 11:13:15 INFO 140410731967616] kv_store: device\u001b[0m\n",
      "\u001b[34m[03/04/2021 11:13:15 INFO 140410731967616] checkpoint_frequency not set, will store the best model\u001b[0m\n",
      "\u001b[34m[03/04/2021 11:13:15 INFO 140410731967616] --------------------\u001b[0m\n",
      "\u001b[34m[11:13:15] /opt/brazil-pkg-cache/packages/AIAlgorithmsMXNet/AIAlgorithmsMXNet-1.3.x_ecl_Cuda_10.1.x.5757.0/AL2012/generic-flavor/src/src/nnvm/legacy_json_util.cc:209: Loading symbol saved by previous version v0.8.0. Attempting to upgrade...\u001b[0m\n",
      "\u001b[34m[11:13:15] /opt/brazil-pkg-cache/packages/AIAlgorithmsMXNet/AIAlgorithmsMXNet-1.3.x_ecl_Cuda_10.1.x.5757.0/AL2012/generic-flavor/src/src/nnvm/legacy_json_util.cc:217: Symbol successfully upgraded!\u001b[0m\n",
      "\u001b[34m[03/04/2021 11:13:16 INFO 140410731967616] Setting number of threads: 63\u001b[0m\n",
      "\u001b[34m[11:13:37] /opt/brazil-pkg-cache/packages/AIAlgorithmsMXNet/AIAlgorithmsMXNet-1.3.x_ecl_Cuda_10.1.x.5757.0/AL2012/generic-flavor/src/src/kvstore/././comm.h:739: only 32 out of 56 GPU pairs are enabled direct access. It may affect the performance. You can set MXNET_ENABLE_GPU_P2P=0 to turn it off\u001b[0m\n",
      "\u001b[34m[11:13:37] /opt/brazil-pkg-cache/packages/AIAlgorithmsMXNet/AIAlgorithmsMXNet-1.3.x_ecl_Cuda_10.1.x.5757.0/AL2012/generic-flavor/src/src/kvstore/././comm.h:748: .vvvv...\u001b[0m\n",
      "\u001b[34m[11:13:37] /opt/brazil-pkg-cache/packages/AIAlgorithmsMXNet/AIAlgorithmsMXNet-1.3.x_ecl_Cuda_10.1.x.5757.0/AL2012/generic-flavor/src/src/kvstore/././comm.h:748: v.vv.v..\u001b[0m\n",
      "\u001b[34m[11:13:37] /opt/brazil-pkg-cache/packages/AIAlgorithmsMXNet/AIAlgorithmsMXNet-1.3.x_ecl_Cuda_10.1.x.5757.0/AL2012/generic-flavor/src/src/kvstore/././comm.h:748: vv.v..v.\u001b[0m\n",
      "\u001b[34m[11:13:37] /opt/brazil-pkg-cache/packages/AIAlgorithmsMXNet/AIAlgorithmsMXNet-1.3.x_ecl_Cuda_10.1.x.5757.0/AL2012/generic-flavor/src/src/kvstore/././comm.h:748: vvv....v\u001b[0m\n",
      "\u001b[34m[11:13:37] /opt/brazil-pkg-cache/packages/AIAlgorithmsMXNet/AIAlgorithmsMXNet-1.3.x_ecl_Cuda_10.1.x.5757.0/AL2012/generic-flavor/src/src/kvstore/././comm.h:748: v....vvv\u001b[0m\n",
      "\u001b[34m[11:13:37] /opt/brazil-pkg-cache/packages/AIAlgorithmsMXNet/AIAlgorithmsMXNet-1.3.x_ecl_Cuda_10.1.x.5757.0/AL2012/generic-flavor/src/src/kvstore/././comm.h:748: .v..v.vv\u001b[0m\n",
      "\u001b[34m[11:13:37] /opt/brazil-pkg-cache/packages/AIAlgorithmsMXNet/AIAlgorithmsMXNet-1.3.x_ecl_Cuda_10.1.x.5757.0/AL2012/generic-flavor/src/src/kvstore/././comm.h:748: ..v.vv.v\u001b[0m\n",
      "\u001b[34m[11:13:37] /opt/brazil-pkg-cache/packages/AIAlgorithmsMXNet/AIAlgorithmsMXNet-1.3.x_ecl_Cuda_10.1.x.5757.0/AL2012/generic-flavor/src/src/kvstore/././comm.h:748: ...vvvv.\u001b[0m\n",
      "\u001b[34m[11:13:37] /opt/brazil-pkg-cache/packages/AIAlgorithmsMXNet/AIAlgorithmsMXNet-1.3.x_ecl_Cuda_10.1.x.5757.0/AL2012/generic-flavor/src/src/operator/nn/./cudnn/./cudnn_algoreg-inl.h:97: Running performance tests to find the best convolution algorithm, this can take a while... (setting env variable MXNET_CUDNN_AUTOTUNE_DEFAULT to 0 to disable)\u001b[0m\n",
      "\u001b[34m[03/04/2021 11:13:41 INFO 140410731967616] Epoch[0] Batch [20]#011Speed: 303.589 samples/sec#011accuracy=0.193452\u001b[0m\n",
      "\u001b[34m[03/04/2021 11:13:42 INFO 140410731967616] Epoch[0] Batch [40]#011Speed: 487.937 samples/sec#011accuracy=0.218369\u001b[0m\n",
      "\u001b[34m[03/04/2021 11:13:43 INFO 140410731967616] Epoch[0] Batch [60]#011Speed: 610.587 samples/sec#011accuracy=0.253842\u001b[0m\n",
      "\u001b[34m[03/04/2021 11:13:44 INFO 140410731967616] Epoch[0] Batch [80]#011Speed: 698.342 samples/sec#011accuracy=0.269483\u001b[0m\n",
      "\u001b[34m[03/04/2021 11:13:45 INFO 140410731967616] Epoch[0] Batch [100]#011Speed: 765.524 samples/sec#011accuracy=0.284344\u001b[0m\n",
      "\u001b[34m[03/04/2021 11:13:46 INFO 140410731967616] Epoch[0] Batch [120]#011Speed: 817.478 samples/sec#011accuracy=0.295067\u001b[0m\n",
      "\u001b[34m[03/04/2021 11:13:47 INFO 140410731967616] Epoch[0] Batch [140]#011Speed: 858.847 samples/sec#011accuracy=0.306184\u001b[0m\n",
      "\u001b[34m[03/04/2021 11:13:48 INFO 140410731967616] Epoch[0] Batch [160]#011Speed: 891.442 samples/sec#011accuracy=0.310753\u001b[0m\n",
      "\u001b[34m[03/04/2021 11:13:49 INFO 140410731967616] Epoch[0] Batch [180]#011Speed: 918.419 samples/sec#011accuracy=0.313709\u001b[0m\n",
      "\u001b[34m[03/04/2021 11:13:50 INFO 140410731967616] Epoch[0] Batch [200]#011Speed: 942.952 samples/sec#011accuracy=0.311956\u001b[0m\n",
      "\u001b[34m[03/04/2021 11:13:51 INFO 140410731967616] Epoch[0] Batch [220]#011Speed: 963.332 samples/sec#011accuracy=0.308541\u001b[0m\n",
      "\u001b[34m[03/04/2021 11:13:52 INFO 140410731967616] Epoch[0] Batch [240]#011Speed: 981.204 samples/sec#011accuracy=0.303877\u001b[0m\n",
      "\u001b[34m[03/04/2021 11:13:53 INFO 140410731967616] Epoch[0] Batch [260]#011Speed: 996.740 samples/sec#011accuracy=0.303460\u001b[0m\n",
      "\u001b[34m[03/04/2021 11:13:54 INFO 140410731967616] Epoch[0] Batch [280]#011Speed: 1010.529 samples/sec#011accuracy=0.302491\u001b[0m\n",
      "\u001b[34m[03/04/2021 11:13:55 INFO 140410731967616] Epoch[0] Batch [300]#011Speed: 1023.227 samples/sec#011accuracy=0.305181\u001b[0m\n",
      "\u001b[34m[03/04/2021 11:13:56 INFO 140410731967616] Epoch[0] Batch [320]#011Speed: 1034.233 samples/sec#011accuracy=0.307438\u001b[0m\n",
      "\u001b[34m[03/04/2021 11:13:57 INFO 140410731967616] Epoch[0] Batch [340]#011Speed: 1045.242 samples/sec#011accuracy=0.310026\u001b[0m\n",
      "\u001b[34m[03/04/2021 11:13:59 INFO 140410731967616] Epoch[0] Batch [360]#011Speed: 1054.330 samples/sec#011accuracy=0.311245\u001b[0m\n",
      "\u001b[34m[03/04/2021 11:14:00 INFO 140410731967616] Epoch[0] Batch [380]#011Speed: 1062.207 samples/sec#011accuracy=0.311680\u001b[0m\n",
      "\u001b[34m[03/04/2021 11:14:01 INFO 140410731967616] Epoch[0] Batch [400]#011Speed: 1069.919 samples/sec#011accuracy=0.306149\u001b[0m\n",
      "\u001b[34m[03/04/2021 11:14:02 INFO 140410731967616] Epoch[0] Batch [420]#011Speed: 1076.966 samples/sec#011accuracy=0.302591\u001b[0m\n"
     ]
    },
    {
     "name": "stdout",
     "output_type": "stream",
     "text": [
      "\u001b[34m[03/04/2021 11:14:03 INFO 140410731967616] Epoch[0] Batch [440]#011Speed: 1082.602 samples/sec#011accuracy=0.299922\u001b[0m\n",
      "\u001b[34m[03/04/2021 11:14:04 INFO 140410731967616] Epoch[0] Batch [460]#011Speed: 1088.182 samples/sec#011accuracy=0.299349\u001b[0m\n",
      "\u001b[34m[03/04/2021 11:14:05 INFO 140410731967616] Epoch[0] Batch [480]#011Speed: 1093.924 samples/sec#011accuracy=0.298174\u001b[0m\n",
      "\u001b[34m[03/04/2021 11:14:06 INFO 140410731967616] Epoch[0] Batch [500]#011Speed: 1098.015 samples/sec#011accuracy=0.295939\u001b[0m\n",
      "\u001b[34m[03/04/2021 11:14:07 INFO 140410731967616] Epoch[0] Batch [520]#011Speed: 1101.892 samples/sec#011accuracy=0.292496\u001b[0m\n",
      "\u001b[34m[03/04/2021 11:14:08 INFO 140410731967616] Epoch[0] Batch [540]#011Speed: 1106.406 samples/sec#011accuracy=0.290521\u001b[0m\n",
      "\u001b[34m[03/04/2021 11:14:09 INFO 140410731967616] Epoch[0] Batch [560]#011Speed: 1111.078 samples/sec#011accuracy=0.288269\u001b[0m\n",
      "\u001b[34m[03/04/2021 11:14:10 INFO 140410731967616] Epoch[0] Batch [580]#011Speed: 1115.272 samples/sec#011accuracy=0.287220\u001b[0m\n",
      "\u001b[34m[03/04/2021 11:14:11 INFO 140410731967616] Epoch[0] Batch [600]#011Speed: 1118.991 samples/sec#011accuracy=0.286216\u001b[0m\n",
      "\u001b[34m[03/04/2021 11:14:12 INFO 140410731967616] Epoch[0] Batch [620]#011Speed: 1123.165 samples/sec#011accuracy=0.284747\u001b[0m\n",
      "\u001b[34m[03/04/2021 11:14:13 INFO 140410731967616] Epoch[0] Batch [640]#011Speed: 1126.343 samples/sec#011accuracy=0.283395\u001b[0m\n",
      "\u001b[34m[03/04/2021 11:14:14 INFO 140410731967616] Epoch[0] Batch [660]#011Speed: 1130.175 samples/sec#011accuracy=0.281746\u001b[0m\n",
      "\u001b[34m[03/04/2021 11:14:15 INFO 140410731967616] Epoch[0] Batch [680]#011Speed: 1133.749 samples/sec#011accuracy=0.279873\u001b[0m\n",
      "\u001b[34m[03/04/2021 11:14:16 INFO 140410731967616] Epoch[0] Batch [700]#011Speed: 1136.767 samples/sec#011accuracy=0.278932\u001b[0m\n",
      "\u001b[34m[03/04/2021 11:14:17 INFO 140410731967616] Epoch[0] Batch [720]#011Speed: 1139.228 samples/sec#011accuracy=0.278238\u001b[0m\n",
      "\u001b[34m[03/04/2021 11:14:18 INFO 140410731967616] Epoch[0] Batch [740]#011Speed: 1142.327 samples/sec#011accuracy=0.276021\u001b[0m\n",
      "\u001b[34m[03/04/2021 11:14:19 INFO 140410731967616] Epoch[0] Batch [760]#011Speed: 1144.358 samples/sec#011accuracy=0.273817\u001b[0m\n",
      "\u001b[34m[03/04/2021 11:14:20 INFO 140410731967616] Epoch[0] Batch [780]#011Speed: 1146.585 samples/sec#011accuracy=0.272067\u001b[0m\n",
      "\u001b[34m[03/04/2021 11:14:20 INFO 140410731967616] Epoch[0] Train-accuracy=0.272067\u001b[0m\n",
      "\u001b[34m[03/04/2021 11:14:20 INFO 140410731967616] Epoch[0] Time cost=43.538\u001b[0m\n",
      "\u001b[34m[03/04/2021 11:14:22 INFO 140410731967616] Epoch[0] Validation-accuracy=0.225318\u001b[0m\n",
      "\u001b[34m[03/04/2021 11:14:22 INFO 140410731967616] Storing the best model with validation accuracy: 0.225318\u001b[0m\n",
      "\u001b[34m[03/04/2021 11:14:22 INFO 140410731967616] Saved checkpoint to \"/opt/ml/model/image-classification-0001.params\"\u001b[0m\n",
      "\u001b[34m[03/04/2021 11:14:24 INFO 140410731967616] Epoch[1] Batch [20]#011Speed: 1193.204 samples/sec#011accuracy=0.210565\u001b[0m\n",
      "\u001b[34m[03/04/2021 11:14:25 INFO 140410731967616] Epoch[1] Batch [40]#011Speed: 1212.680 samples/sec#011accuracy=0.209223\u001b[0m\n",
      "\u001b[34m[03/04/2021 11:14:26 INFO 140410731967616] Epoch[1] Batch [60]#011Speed: 1224.096 samples/sec#011accuracy=0.214652\u001b[0m\n",
      "\u001b[34m[03/04/2021 11:14:27 INFO 140410731967616] Epoch[1] Batch [80]#011Speed: 1231.583 samples/sec#011accuracy=0.219329\u001b[0m\n",
      "\u001b[34m[03/04/2021 11:14:28 INFO 140410731967616] Epoch[1] Batch [100]#011Speed: 1234.637 samples/sec#011accuracy=0.221380\u001b[0m\n",
      "\u001b[34m[03/04/2021 11:14:29 INFO 140410731967616] Epoch[1] Batch [120]#011Speed: 1234.651 samples/sec#011accuracy=0.225594\u001b[0m\n",
      "\u001b[34m[03/04/2021 11:14:30 INFO 140410731967616] Epoch[1] Batch [140]#011Speed: 1236.446 samples/sec#011accuracy=0.229610\u001b[0m\n",
      "\u001b[34m[03/04/2021 11:14:31 INFO 140410731967616] Epoch[1] Batch [160]#011Speed: 1238.685 samples/sec#011accuracy=0.232434\u001b[0m\n",
      "\u001b[34m[03/04/2021 11:14:32 INFO 140410731967616] Epoch[1] Batch [180]#011Speed: 1239.244 samples/sec#011accuracy=0.233253\u001b[0m\n",
      "\u001b[34m[03/04/2021 11:14:33 INFO 140410731967616] Epoch[1] Batch [200]#011Speed: 1240.595 samples/sec#011accuracy=0.236318\u001b[0m\n",
      "\u001b[34m[03/04/2021 11:14:34 INFO 140410731967616] Epoch[1] Batch [220]#011Speed: 1240.545 samples/sec#011accuracy=0.236284\u001b[0m\n",
      "\u001b[34m[03/04/2021 11:14:35 INFO 140410731967616] Epoch[1] Batch [240]#011Speed: 1240.153 samples/sec#011accuracy=0.237487\u001b[0m\n",
      "\u001b[34m[03/04/2021 11:14:36 INFO 140410731967616] Epoch[1] Batch [260]#011Speed: 1240.193 samples/sec#011accuracy=0.237548\u001b[0m\n",
      "\u001b[34m[03/04/2021 11:14:37 INFO 140410731967616] Epoch[1] Batch [280]#011Speed: 1241.247 samples/sec#011accuracy=0.237322\u001b[0m\n",
      "\u001b[34m[03/04/2021 11:14:38 INFO 140410731967616] Epoch[1] Batch [300]#011Speed: 1242.208 samples/sec#011accuracy=0.237593\u001b[0m\n",
      "\u001b[34m[03/04/2021 11:14:39 INFO 140410731967616] Epoch[1] Batch [320]#011Speed: 1242.106 samples/sec#011accuracy=0.237101\u001b[0m\n",
      "\u001b[34m[03/04/2021 11:14:40 INFO 140410731967616] Epoch[1] Batch [340]#011Speed: 1241.195 samples/sec#011accuracy=0.238270\u001b[0m\n",
      "\u001b[34m[03/04/2021 11:14:41 INFO 140410731967616] Epoch[1] Batch [360]#011Speed: 1240.472 samples/sec#011accuracy=0.240997\u001b[0m\n",
      "\u001b[34m[03/04/2021 11:14:42 INFO 140410731967616] Epoch[1] Batch [380]#011Speed: 1240.387 samples/sec#011accuracy=0.241839\u001b[0m\n",
      "\u001b[34m[03/04/2021 11:14:43 INFO 140410731967616] Epoch[1] Batch [400]#011Speed: 1239.737 samples/sec#011accuracy=0.244272\u001b[0m\n",
      "\u001b[34m[03/04/2021 11:14:44 INFO 140410731967616] Epoch[1] Batch [420]#011Speed: 1239.601 samples/sec#011accuracy=0.246586\u001b[0m\n",
      "\u001b[34m[03/04/2021 11:14:45 INFO 140410731967616] Epoch[1] Batch [440]#011Speed: 1239.926 samples/sec#011accuracy=0.248937\u001b[0m\n",
      "\u001b[34m[03/04/2021 11:14:46 INFO 140410731967616] Epoch[1] Batch [460]#011Speed: 1240.893 samples/sec#011accuracy=0.251356\u001b[0m\n",
      "\u001b[34m[03/04/2021 11:14:47 INFO 140410731967616] Epoch[1] Batch [480]#011Speed: 1240.478 samples/sec#011accuracy=0.252924\u001b[0m\n",
      "\u001b[34m[03/04/2021 11:14:48 INFO 140410731967616] Epoch[1] Batch [500]#011Speed: 1240.677 samples/sec#011accuracy=0.253275\u001b[0m\n",
      "\u001b[34m[03/04/2021 11:14:49 INFO 140410731967616] Epoch[1] Batch [520]#011Speed: 1240.955 samples/sec#011accuracy=0.253119\u001b[0m\n",
      "\u001b[34m[03/04/2021 11:14:50 INFO 140410731967616] Epoch[1] Batch [540]#011Speed: 1241.095 samples/sec#011accuracy=0.251964\u001b[0m\n",
      "\u001b[34m[03/04/2021 11:14:51 INFO 140410731967616] Epoch[1] Batch [560]#011Speed: 1240.367 samples/sec#011accuracy=0.252284\u001b[0m\n",
      "\u001b[34m[03/04/2021 11:14:52 INFO 140410731967616] Epoch[1] Batch [580]#011Speed: 1240.209 samples/sec#011accuracy=0.252797\u001b[0m\n",
      "\u001b[34m[03/04/2021 11:14:53 INFO 140410731967616] Epoch[1] Batch [600]#011Speed: 1239.969 samples/sec#011accuracy=0.253432\u001b[0m\n",
      "\u001b[34m[03/04/2021 11:14:54 INFO 140410731967616] Epoch[1] Batch [620]#011Speed: 1239.995 samples/sec#011accuracy=0.254076\u001b[0m\n",
      "\u001b[34m[03/04/2021 11:14:55 INFO 140410731967616] Epoch[1] Batch [640]#011Speed: 1239.918 samples/sec#011accuracy=0.254558\u001b[0m\n",
      "\u001b[34m[03/04/2021 11:14:57 INFO 140410731967616] Epoch[1] Batch [660]#011Speed: 1240.213 samples/sec#011accuracy=0.255791\u001b[0m\n",
      "\u001b[34m[03/04/2021 11:14:58 INFO 140410731967616] Epoch[1] Batch [680]#011Speed: 1240.119 samples/sec#011accuracy=0.257090\u001b[0m\n",
      "\u001b[34m[03/04/2021 11:14:59 INFO 140410731967616] Epoch[1] Batch [700]#011Speed: 1239.522 samples/sec#011accuracy=0.259050\u001b[0m\n",
      "\u001b[34m[03/04/2021 11:15:00 INFO 140410731967616] Epoch[1] Batch [720]#011Speed: 1239.557 samples/sec#011accuracy=0.260944\u001b[0m\n",
      "\u001b[34m[03/04/2021 11:15:01 INFO 140410731967616] Epoch[1] Batch [740]#011Speed: 1239.401 samples/sec#011accuracy=0.261787\u001b[0m\n",
      "\u001b[34m[03/04/2021 11:15:02 INFO 140410731967616] Epoch[1] Batch [760]#011Speed: 1239.342 samples/sec#011accuracy=0.262648\u001b[0m\n",
      "\u001b[34m[03/04/2021 11:15:03 INFO 140410731967616] Epoch[1] Batch [780]#011Speed: 1238.264 samples/sec#011accuracy=0.263864\u001b[0m\n",
      "\u001b[34m[03/04/2021 11:15:03 INFO 140410731967616] Epoch[1] Train-accuracy=0.263864\u001b[0m\n",
      "\u001b[34m[03/04/2021 11:15:03 INFO 140410731967616] Epoch[1] Time cost=40.315\u001b[0m\n",
      "\u001b[34m[03/04/2021 11:15:04 INFO 140410731967616] Epoch[1] Validation-accuracy=0.345252\u001b[0m\n",
      "\u001b[34m[03/04/2021 11:15:05 INFO 140410731967616] Storing the best model with validation accuracy: 0.345252\u001b[0m\n",
      "\u001b[34m[03/04/2021 11:15:05 INFO 140410731967616] Saved checkpoint to \"/opt/ml/model/image-classification-0002.params\"\u001b[0m\n",
      "\u001b[34m[03/04/2021 11:15:06 INFO 140410731967616] Epoch[2] Batch [20]#011Speed: 1212.621 samples/sec#011accuracy=0.311756\u001b[0m\n",
      "\u001b[34m[03/04/2021 11:15:07 INFO 140410731967616] Epoch[2] Batch [40]#011Speed: 1220.424 samples/sec#011accuracy=0.320884\u001b[0m\n",
      "\u001b[34m[03/04/2021 11:15:08 INFO 140410731967616] Epoch[2] Batch [60]#011Speed: 1223.916 samples/sec#011accuracy=0.326076\u001b[0m\n",
      "\u001b[34m[03/04/2021 11:15:09 INFO 140410731967616] Epoch[2] Batch [80]#011Speed: 1224.730 samples/sec#011accuracy=0.321566\u001b[0m\n",
      "\u001b[34m[03/04/2021 11:15:10 INFO 140410731967616] Epoch[2] Batch [100]#011Speed: 1226.765 samples/sec#011accuracy=0.326114\u001b[0m\n",
      "\u001b[34m[03/04/2021 11:15:11 INFO 140410731967616] Epoch[2] Batch [120]#011Speed: 1225.927 samples/sec#011accuracy=0.330191\u001b[0m\n"
     ]
    },
    {
     "name": "stdout",
     "output_type": "stream",
     "text": [
      "\u001b[34m[03/04/2021 11:15:12 INFO 140410731967616] Epoch[2] Batch [140]#011Speed: 1228.098 samples/sec#011accuracy=0.335882\u001b[0m\n",
      "\u001b[34m[03/04/2021 11:15:13 INFO 140410731967616] Epoch[2] Batch [160]#011Speed: 1226.922 samples/sec#011accuracy=0.335986\u001b[0m\n",
      "\u001b[34m[03/04/2021 11:15:14 INFO 140410731967616] Epoch[2] Batch [180]#011Speed: 1225.460 samples/sec#011accuracy=0.336067\u001b[0m\n",
      "\u001b[34m[03/04/2021 11:15:16 INFO 140410731967616] Epoch[2] Batch [200]#011Speed: 1225.682 samples/sec#011accuracy=0.334499\u001b[0m\n",
      "\u001b[34m[03/04/2021 11:15:17 INFO 140410731967616] Epoch[2] Batch [220]#011Speed: 1225.992 samples/sec#011accuracy=0.333215\u001b[0m\n",
      "\u001b[34m[03/04/2021 11:15:18 INFO 140410731967616] Epoch[2] Batch [240]#011Speed: 1227.650 samples/sec#011accuracy=0.330978\u001b[0m\n",
      "\u001b[34m[03/04/2021 11:15:19 INFO 140410731967616] Epoch[2] Batch [260]#011Speed: 1228.997 samples/sec#011accuracy=0.328424\u001b[0m\n",
      "\u001b[34m[03/04/2021 11:15:20 INFO 140410731967616] Epoch[2] Batch [280]#011Speed: 1228.763 samples/sec#011accuracy=0.327569\u001b[0m\n",
      "\u001b[34m[03/04/2021 11:15:21 INFO 140410731967616] Epoch[2] Batch [300]#011Speed: 1229.716 samples/sec#011accuracy=0.327917\u001b[0m\n",
      "\u001b[34m[03/04/2021 11:15:22 INFO 140410731967616] Epoch[2] Batch [320]#011Speed: 1227.835 samples/sec#011accuracy=0.329731\u001b[0m\n",
      "\u001b[34m[03/04/2021 11:15:23 INFO 140410731967616] Epoch[2] Batch [340]#011Speed: 1226.863 samples/sec#011accuracy=0.331012\u001b[0m\n",
      "\u001b[34m[03/04/2021 11:15:24 INFO 140410731967616] Epoch[2] Batch [360]#011Speed: 1225.526 samples/sec#011accuracy=0.330073\u001b[0m\n",
      "\u001b[34m[03/04/2021 11:15:25 INFO 140410731967616] Epoch[2] Batch [380]#011Speed: 1225.653 samples/sec#011accuracy=0.325951\u001b[0m\n",
      "\u001b[34m[03/04/2021 11:15:26 INFO 140410731967616] Epoch[2] Batch [400]#011Speed: 1225.560 samples/sec#011accuracy=0.322943\u001b[0m\n",
      "\u001b[34m[03/04/2021 11:15:27 INFO 140410731967616] Epoch[2] Batch [420]#011Speed: 1225.768 samples/sec#011accuracy=0.320702\u001b[0m\n",
      "\u001b[34m[03/04/2021 11:15:28 INFO 140410731967616] Epoch[2] Batch [440]#011Speed: 1226.121 samples/sec#011accuracy=0.319870\u001b[0m\n",
      "\u001b[34m[03/04/2021 11:15:29 INFO 140410731967616] Epoch[2] Batch [460]#011Speed: 1226.307 samples/sec#011accuracy=0.320940\u001b[0m\n",
      "\u001b[34m[03/04/2021 11:15:30 INFO 140410731967616] Epoch[2] Batch [480]#011Speed: 1225.711 samples/sec#011accuracy=0.320589\u001b[0m\n",
      "\u001b[34m[03/04/2021 11:15:31 INFO 140410731967616] Epoch[2] Batch [500]#011Speed: 1224.394 samples/sec#011accuracy=0.321357\u001b[0m\n",
      "\u001b[34m[03/04/2021 11:15:32 INFO 140410731967616] Epoch[2] Batch [520]#011Speed: 1222.827 samples/sec#011accuracy=0.322427\u001b[0m\n",
      "\u001b[34m[03/04/2021 11:15:33 INFO 140410731967616] Epoch[2] Batch [540]#011Speed: 1221.307 samples/sec#011accuracy=0.322175\u001b[0m\n",
      "\u001b[34m[03/04/2021 11:15:34 INFO 140410731967616] Epoch[2] Batch [560]#011Speed: 1221.762 samples/sec#011accuracy=0.318683\u001b[0m\n",
      "\u001b[34m[03/04/2021 11:15:35 INFO 140410731967616] Epoch[2] Batch [580]#011Speed: 1222.122 samples/sec#011accuracy=0.315754\u001b[0m\n",
      "\u001b[34m[03/04/2021 11:15:37 INFO 140410731967616] Epoch[2] Batch [600]#011Speed: 1221.185 samples/sec#011accuracy=0.314060\u001b[0m\n",
      "\u001b[34m[03/04/2021 11:15:38 INFO 140410731967616] Epoch[2] Batch [620]#011Speed: 1222.427 samples/sec#011accuracy=0.312651\u001b[0m\n",
      "\u001b[34m[03/04/2021 11:15:39 INFO 140410731967616] Epoch[2] Batch [640]#011Speed: 1222.907 samples/sec#011accuracy=0.311598\u001b[0m\n",
      "\u001b[34m[03/04/2021 11:15:40 INFO 140410731967616] Epoch[2] Batch [660]#011Speed: 1222.646 samples/sec#011accuracy=0.311224\u001b[0m\n",
      "\u001b[34m[03/04/2021 11:15:41 INFO 140410731967616] Epoch[2] Batch [680]#011Speed: 1222.832 samples/sec#011accuracy=0.310573\u001b[0m\n",
      "\u001b[34m[03/04/2021 11:15:42 INFO 140410731967616] Epoch[2] Batch [700]#011Speed: 1223.294 samples/sec#011accuracy=0.310382\u001b[0m\n",
      "\u001b[34m[03/04/2021 11:15:43 INFO 140410731967616] Epoch[2] Batch [720]#011Speed: 1223.791 samples/sec#011accuracy=0.311221\u001b[0m\n",
      "\u001b[34m[03/04/2021 11:15:44 INFO 140410731967616] Epoch[2] Batch [740]#011Speed: 1224.150 samples/sec#011accuracy=0.311614\u001b[0m\n",
      "\u001b[34m[03/04/2021 11:15:45 INFO 140410731967616] Epoch[2] Batch [760]#011Speed: 1224.262 samples/sec#011accuracy=0.312233\u001b[0m\n",
      "\u001b[34m[03/04/2021 11:15:46 INFO 140410731967616] Epoch[2] Batch [780]#011Speed: 1224.958 samples/sec#011accuracy=0.312820\u001b[0m\n",
      "\u001b[34m[03/04/2021 11:15:46 INFO 140410731967616] Epoch[2] Train-accuracy=0.312820\u001b[0m\n",
      "\u001b[34m[03/04/2021 11:15:46 INFO 140410731967616] Epoch[2] Time cost=40.753\u001b[0m\n",
      "\u001b[34m[03/04/2021 11:15:47 INFO 140410731967616] Epoch[2] Validation-accuracy=0.369491\u001b[0m\n",
      "\u001b[34m[03/04/2021 11:15:48 INFO 140410731967616] Storing the best model with validation accuracy: 0.369491\u001b[0m\n",
      "\u001b[34m[03/04/2021 11:15:48 INFO 140410731967616] Saved checkpoint to \"/opt/ml/model/image-classification-0003.params\"\u001b[0m\n",
      "\u001b[34m[03/04/2021 11:15:49 INFO 140410731967616] Epoch[3] Batch [20]#011Speed: 1215.009 samples/sec#011accuracy=0.346726\u001b[0m\n",
      "\u001b[34m[03/04/2021 11:15:50 INFO 140410731967616] Epoch[3] Batch [40]#011Speed: 1225.223 samples/sec#011accuracy=0.329649\u001b[0m\n",
      "\u001b[34m[03/04/2021 11:15:51 INFO 140410731967616] Epoch[3] Batch [60]#011Speed: 1220.035 samples/sec#011accuracy=0.331711\u001b[0m\n",
      "\u001b[34m[03/04/2021 11:15:52 INFO 140410731967616] Epoch[3] Batch [80]#011Speed: 1220.408 samples/sec#011accuracy=0.331983\u001b[0m\n",
      "\u001b[34m[03/04/2021 11:15:53 INFO 140410731967616] Epoch[3] Batch [100]#011Speed: 1223.604 samples/sec#011accuracy=0.336479\u001b[0m\n",
      "\u001b[34m[03/04/2021 11:15:54 INFO 140410731967616] Epoch[3] Batch [120]#011Speed: 1223.743 samples/sec#011accuracy=0.339618\u001b[0m\n",
      "\u001b[34m[03/04/2021 11:15:55 INFO 140410731967616] Epoch[3] Batch [140]#011Speed: 1223.187 samples/sec#011accuracy=0.334552\u001b[0m\n",
      "\u001b[34m[03/04/2021 11:15:56 INFO 140410731967616] Epoch[3] Batch [160]#011Speed: 1224.062 samples/sec#011accuracy=0.332104\u001b[0m\n",
      "\u001b[34m[03/04/2021 11:15:57 INFO 140410731967616] Epoch[3] Batch [180]#011Speed: 1226.625 samples/sec#011accuracy=0.331146\u001b[0m\n",
      "\u001b[34m[03/04/2021 11:15:59 INFO 140410731967616] Epoch[3] Batch [200]#011Speed: 1226.906 samples/sec#011accuracy=0.329447\u001b[0m\n",
      "\u001b[34m[03/04/2021 11:16:00 INFO 140410731967616] Epoch[3] Batch [220]#011Speed: 1228.598 samples/sec#011accuracy=0.325580\u001b[0m\n",
      "\u001b[34m[03/04/2021 11:16:01 INFO 140410731967616] Epoch[3] Batch [240]#011Speed: 1230.265 samples/sec#011accuracy=0.323198\u001b[0m\n",
      "\u001b[34m[03/04/2021 11:16:02 INFO 140410731967616] Epoch[3] Batch [260]#011Speed: 1230.350 samples/sec#011accuracy=0.324234\u001b[0m\n",
      "\u001b[34m[03/04/2021 11:16:03 INFO 140410731967616] Epoch[3] Batch [280]#011Speed: 1229.954 samples/sec#011accuracy=0.325845\u001b[0m\n",
      "\u001b[34m[03/04/2021 11:16:04 INFO 140410731967616] Epoch[3] Batch [300]#011Speed: 1229.987 samples/sec#011accuracy=0.326879\u001b[0m\n",
      "\u001b[34m[03/04/2021 11:16:05 INFO 140410731967616] Epoch[3] Batch [320]#011Speed: 1228.228 samples/sec#011accuracy=0.330267\u001b[0m\n",
      "\u001b[34m[03/04/2021 11:16:06 INFO 140410731967616] Epoch[3] Batch [340]#011Speed: 1228.165 samples/sec#011accuracy=0.331516\u001b[0m\n",
      "\u001b[34m[03/04/2021 11:16:07 INFO 140410731967616] Epoch[3] Batch [360]#011Speed: 1228.931 samples/sec#011accuracy=0.334228\u001b[0m\n",
      "\u001b[34m[03/04/2021 11:16:08 INFO 140410731967616] Epoch[3] Batch [380]#011Speed: 1229.646 samples/sec#011accuracy=0.335835\u001b[0m\n",
      "\u001b[34m[03/04/2021 11:16:09 INFO 140410731967616] Epoch[3] Batch [400]#011Speed: 1230.062 samples/sec#011accuracy=0.336736\u001b[0m\n",
      "\u001b[34m[03/04/2021 11:16:10 INFO 140410731967616] Epoch[3] Batch [420]#011Speed: 1230.291 samples/sec#011accuracy=0.338368\u001b[0m\n",
      "\u001b[34m[03/04/2021 11:16:11 INFO 140410731967616] Epoch[3] Batch [440]#011Speed: 1230.299 samples/sec#011accuracy=0.339817\u001b[0m\n",
      "\u001b[34m[03/04/2021 11:16:12 INFO 140410731967616] Epoch[3] Batch [460]#011Speed: 1230.698 samples/sec#011accuracy=0.341649\u001b[0m\n",
      "\u001b[34m[03/04/2021 11:16:13 INFO 140410731967616] Epoch[3] Batch [480]#011Speed: 1230.371 samples/sec#011accuracy=0.343620\u001b[0m\n",
      "\u001b[34m[03/04/2021 11:16:14 INFO 140410731967616] Epoch[3] Batch [500]#011Speed: 1231.246 samples/sec#011accuracy=0.344218\u001b[0m\n",
      "\u001b[34m[03/04/2021 11:16:15 INFO 140410731967616] Epoch[3] Batch [520]#011Speed: 1231.191 samples/sec#011accuracy=0.345549\u001b[0m\n",
      "\u001b[34m[03/04/2021 11:16:16 INFO 140410731967616] Epoch[3] Batch [540]#011Speed: 1232.222 samples/sec#011accuracy=0.346465\u001b[0m\n",
      "\u001b[34m[03/04/2021 11:16:17 INFO 140410731967616] Epoch[3] Batch [560]#011Speed: 1232.417 samples/sec#011accuracy=0.348791\u001b[0m\n",
      "\u001b[34m[03/04/2021 11:16:18 INFO 140410731967616] Epoch[3] Batch [580]#011Speed: 1230.633 samples/sec#011accuracy=0.349882\u001b[0m\n",
      "\u001b[34m[03/04/2021 11:16:19 INFO 140410731967616] Epoch[3] Batch [600]#011Speed: 1231.333 samples/sec#011accuracy=0.351679\u001b[0m\n",
      "\u001b[34m[03/04/2021 11:16:20 INFO 140410731967616] Epoch[3] Batch [620]#011Speed: 1231.921 samples/sec#011accuracy=0.353412\u001b[0m\n",
      "\u001b[34m[03/04/2021 11:16:21 INFO 140410731967616] Epoch[3] Batch [640]#011Speed: 1232.127 samples/sec#011accuracy=0.356157\u001b[0m\n"
     ]
    },
    {
     "name": "stdout",
     "output_type": "stream",
     "text": [
      "\u001b[34m[03/04/2021 11:16:22 INFO 140410731967616] Epoch[3] Batch [660]#011Speed: 1232.187 samples/sec#011accuracy=0.358288\u001b[0m\n",
      "\u001b[34m[03/04/2021 11:16:23 INFO 140410731967616] Epoch[3] Batch [680]#011Speed: 1231.878 samples/sec#011accuracy=0.360109\u001b[0m\n",
      "\u001b[34m[03/04/2021 11:16:24 INFO 140410731967616] Epoch[3] Batch [700]#011Speed: 1231.757 samples/sec#011accuracy=0.361938\u001b[0m\n",
      "\u001b[34m[03/04/2021 11:16:25 INFO 140410731967616] Epoch[3] Batch [720]#011Speed: 1231.769 samples/sec#011accuracy=0.363146\u001b[0m\n",
      "\u001b[34m[03/04/2021 11:16:27 INFO 140410731967616] Epoch[3] Batch [740]#011Speed: 1231.243 samples/sec#011accuracy=0.364879\u001b[0m\n",
      "\u001b[34m[03/04/2021 11:16:28 INFO 140410731967616] Epoch[3] Batch [760]#011Speed: 1231.088 samples/sec#011accuracy=0.366171\u001b[0m\n",
      "\u001b[34m[03/04/2021 11:16:29 INFO 140410731967616] Epoch[3] Batch [780]#011Speed: 1230.650 samples/sec#011accuracy=0.367338\u001b[0m\n",
      "\u001b[34m[03/04/2021 11:16:29 INFO 140410731967616] Epoch[3] Train-accuracy=0.367338\u001b[0m\n",
      "\u001b[34m[03/04/2021 11:16:29 INFO 140410731967616] Epoch[3] Time cost=40.564\u001b[0m\n",
      "\u001b[34m[03/04/2021 11:16:30 INFO 140410731967616] Epoch[3] Validation-accuracy=0.458033\u001b[0m\n",
      "\u001b[34m[03/04/2021 11:16:31 INFO 140410731967616] Storing the best model with validation accuracy: 0.458033\u001b[0m\n",
      "\u001b[34m[03/04/2021 11:16:31 INFO 140410731967616] Saved checkpoint to \"/opt/ml/model/image-classification-0004.params\"\u001b[0m\n",
      "\u001b[34m[03/04/2021 11:16:32 INFO 140410731967616] Epoch[4] Batch [20]#011Speed: 1204.057 samples/sec#011accuracy=0.429315\u001b[0m\n",
      "\u001b[34m[03/04/2021 11:16:33 INFO 140410731967616] Epoch[4] Batch [40]#011Speed: 1196.036 samples/sec#011accuracy=0.419207\u001b[0m\n",
      "\u001b[34m[03/04/2021 11:16:34 INFO 140410731967616] Epoch[4] Batch [60]#011Speed: 1214.032 samples/sec#011accuracy=0.416752\u001b[0m\n",
      "\u001b[34m[03/04/2021 11:16:35 INFO 140410731967616] Epoch[4] Batch [80]#011Speed: 1223.598 samples/sec#011accuracy=0.417438\u001b[0m\n",
      "\u001b[34m[03/04/2021 11:16:36 INFO 140410731967616] Epoch[4] Batch [100]#011Speed: 1224.628 samples/sec#011accuracy=0.418626\u001b[0m\n",
      "\u001b[34m[03/04/2021 11:16:37 INFO 140410731967616] Epoch[4] Batch [120]#011Speed: 1227.971 samples/sec#011accuracy=0.418388\u001b[0m\n",
      "\u001b[34m[03/04/2021 11:16:38 INFO 140410731967616] Epoch[4] Batch [140]#011Speed: 1229.156 samples/sec#011accuracy=0.413896\u001b[0m\n",
      "\u001b[34m[03/04/2021 11:16:39 INFO 140410731967616] Epoch[4] Batch [160]#011Speed: 1229.906 samples/sec#011accuracy=0.416731\u001b[0m\n",
      "\u001b[34m[03/04/2021 11:16:40 INFO 140410731967616] Epoch[4] Batch [180]#011Speed: 1232.600 samples/sec#011accuracy=0.416177\u001b[0m\n",
      "\u001b[34m[03/04/2021 11:16:41 INFO 140410731967616] Epoch[4] Batch [200]#011Speed: 1234.373 samples/sec#011accuracy=0.412780\u001b[0m\n",
      "\u001b[34m[03/04/2021 11:16:42 INFO 140410731967616] Epoch[4] Batch [220]#011Speed: 1235.625 samples/sec#011accuracy=0.406321\u001b[0m\n",
      "\u001b[34m[03/04/2021 11:16:43 INFO 140410731967616] Epoch[4] Batch [240]#011Speed: 1236.390 samples/sec#011accuracy=0.401971\u001b[0m\n",
      "\u001b[34m[03/04/2021 11:16:44 INFO 140410731967616] Epoch[4] Batch [260]#011Speed: 1237.416 samples/sec#011accuracy=0.397091\u001b[0m\n",
      "\u001b[34m[03/04/2021 11:16:45 INFO 140410731967616] Epoch[4] Batch [280]#011Speed: 1235.259 samples/sec#011accuracy=0.390069\u001b[0m\n",
      "\u001b[34m[03/04/2021 11:16:46 INFO 140410731967616] Epoch[4] Batch [300]#011Speed: 1235.159 samples/sec#011accuracy=0.384863\u001b[0m\n",
      "\u001b[34m[03/04/2021 11:16:48 INFO 140410731967616] Epoch[4] Batch [320]#011Speed: 1235.457 samples/sec#011accuracy=0.380452\u001b[0m\n",
      "\u001b[34m[03/04/2021 11:16:49 INFO 140410731967616] Epoch[4] Batch [340]#011Speed: 1234.693 samples/sec#011accuracy=0.378528\u001b[0m\n",
      "\u001b[34m[03/04/2021 11:16:50 INFO 140410731967616] Epoch[4] Batch [360]#011Speed: 1232.391 samples/sec#011accuracy=0.376212\u001b[0m\n",
      "\u001b[34m[03/04/2021 11:16:51 INFO 140410731967616] Epoch[4] Batch [380]#011Speed: 1231.530 samples/sec#011accuracy=0.374221\u001b[0m\n",
      "\u001b[34m[03/04/2021 11:16:52 INFO 140410731967616] Epoch[4] Batch [400]#011Speed: 1230.259 samples/sec#011accuracy=0.372974\u001b[0m\n",
      "\u001b[34m[03/04/2021 11:16:53 INFO 140410731967616] Epoch[4] Batch [420]#011Speed: 1229.793 samples/sec#011accuracy=0.369693\u001b[0m\n",
      "\u001b[34m[03/04/2021 11:16:54 INFO 140410731967616] Epoch[4] Batch [440]#011Speed: 1230.251 samples/sec#011accuracy=0.363024\u001b[0m\n",
      "\u001b[34m[03/04/2021 11:16:55 INFO 140410731967616] Epoch[4] Batch [460]#011Speed: 1229.717 samples/sec#011accuracy=0.358799\u001b[0m\n",
      "\u001b[34m[03/04/2021 11:16:56 INFO 140410731967616] Epoch[4] Batch [480]#011Speed: 1229.814 samples/sec#011accuracy=0.355379\u001b[0m\n",
      "\u001b[34m[03/04/2021 11:16:57 INFO 140410731967616] Epoch[4] Batch [500]#011Speed: 1230.194 samples/sec#011accuracy=0.353824\u001b[0m\n",
      "\u001b[34m[03/04/2021 11:16:58 INFO 140410731967616] Epoch[4] Batch [520]#011Speed: 1230.189 samples/sec#011accuracy=0.351847\u001b[0m\n",
      "\u001b[34m[03/04/2021 11:16:59 INFO 140410731967616] Epoch[4] Batch [540]#011Speed: 1229.795 samples/sec#011accuracy=0.351086\u001b[0m\n",
      "\u001b[34m[03/04/2021 11:17:00 INFO 140410731967616] Epoch[4] Batch [560]#011Speed: 1229.530 samples/sec#011accuracy=0.349599\u001b[0m\n",
      "\u001b[34m[03/04/2021 11:17:01 INFO 140410731967616] Epoch[4] Batch [580]#011Speed: 1229.188 samples/sec#011accuracy=0.349451\u001b[0m\n",
      "\u001b[34m[03/04/2021 11:17:02 INFO 140410731967616] Epoch[4] Batch [600]#011Speed: 1228.680 samples/sec#011accuracy=0.350068\u001b[0m\n",
      "\u001b[34m[03/04/2021 11:17:03 INFO 140410731967616] Epoch[4] Batch [620]#011Speed: 1228.777 samples/sec#011accuracy=0.348229\u001b[0m\n",
      "\u001b[34m[03/04/2021 11:17:04 INFO 140410731967616] Epoch[4] Batch [640]#011Speed: 1228.444 samples/sec#011accuracy=0.345798\u001b[0m\n",
      "\u001b[34m[03/04/2021 11:17:05 INFO 140410731967616] Epoch[4] Batch [660]#011Speed: 1228.195 samples/sec#011accuracy=0.344743\u001b[0m\n",
      "\u001b[34m[03/04/2021 11:17:06 INFO 140410731967616] Epoch[4] Batch [680]#011Speed: 1228.559 samples/sec#011accuracy=0.343681\u001b[0m\n",
      "\u001b[34m[03/04/2021 11:17:07 INFO 140410731967616] Epoch[4] Batch [700]#011Speed: 1228.224 samples/sec#011accuracy=0.342301\u001b[0m\n",
      "\u001b[34m[03/04/2021 11:17:08 INFO 140410731967616] Epoch[4] Batch [720]#011Speed: 1227.709 samples/sec#011accuracy=0.340608\u001b[0m\n",
      "\u001b[34m[03/04/2021 11:17:10 INFO 140410731967616] Epoch[4] Batch [740]#011Speed: 1227.270 samples/sec#011accuracy=0.339701\u001b[0m\n",
      "\u001b[34m[03/04/2021 11:17:11 INFO 140410731967616] Epoch[4] Batch [760]#011Speed: 1226.887 samples/sec#011accuracy=0.339356\u001b[0m\n",
      "\u001b[34m[03/04/2021 11:17:12 INFO 140410731967616] Epoch[4] Batch [780]#011Speed: 1225.554 samples/sec#011accuracy=0.339048\u001b[0m\n",
      "\u001b[34m[03/04/2021 11:17:12 INFO 140410731967616] Epoch[4] Train-accuracy=0.339048\u001b[0m\n",
      "\u001b[34m[03/04/2021 11:17:12 INFO 140410731967616] Epoch[4] Time cost=40.733\u001b[0m\n",
      "\u001b[34m[03/04/2021 11:17:13 INFO 140410731967616] Epoch[4] Validation-accuracy=0.387341\u001b[0m\n",
      "\n",
      "2021-03-04 11:18:16 Uploading - Uploading generated training model\n",
      "2021-03-04 11:18:34 Completed - Training job completed\n",
      "Training seconds: 417\n",
      "Billable seconds: 125\n",
      "Managed Spot Training savings: 70.0%\n"
     ]
    }
   ],
   "source": [
    "ic.fit(inputs=data_channels)"
   ]
  },
  {
   "cell_type": "markdown",
   "id": "voluntary-justice",
   "metadata": {},
   "source": [
    "## Create an inference endpoint\n",
    "\n",
    "Now that the model is created (and saved to S3 at `s3_output_location`) we can create an endpoint from the model, such that we can use it to make inference about new data."
   ]
  },
  {
   "cell_type": "code",
   "execution_count": 16,
   "id": "incorporate-racing",
   "metadata": {},
   "outputs": [
    {
     "name": "stdout",
     "output_type": "stream",
     "text": [
      "-----------------!"
     ]
    }
   ],
   "source": [
    "ic_classifier = ic.deploy(initial_instance_count = 1, instance_type = 'ml.m4.xlarge')"
   ]
  },
  {
   "cell_type": "markdown",
   "id": "certain-maintenance",
   "metadata": {},
   "source": [
    "Within the SageMaker SDK, we don't need to know the endpoint name, as we can simply reference it from the classifier we just made.  But it might be useful to know, so let's find out: "
   ]
  },
  {
   "cell_type": "code",
   "execution_count": null,
   "id": "phantom-indianapolis",
   "metadata": {},
   "outputs": [],
   "source": [
    "ic_classifier.endpoint_name"
   ]
  },
  {
   "cell_type": "markdown",
   "id": "opposite-windows",
   "metadata": {},
   "source": [
    "Now let's create some data to use for testing.  Here we set the labels, and a test image:"
   ]
  },
  {
   "cell_type": "code",
   "execution_count": null,
   "id": "sound-russian",
   "metadata": {},
   "outputs": [],
   "source": [
    "labels = ['plane', 'car', 'bird', 'cat', 'deer', 'dog', 'frog', 'horse', 'ship', 'truck']\n",
    "\n",
    "f = open('./test-images/ship.jpg', 'rb') # opening a binary file\n",
    "data = f.read()"
   ]
  },
  {
   "cell_type": "markdown",
   "id": "proof-advice",
   "metadata": {},
   "source": [
    "## Make an inference/prediction\n",
    "\n",
    "With our endpoint deployed and sample data ready, we can call `predict` and see what we find.\n",
    "\n",
    "As this model was trained quickly, don't expect anything too amazing!  If you want to improve the accuracy change some of the hyperparameters and train again.  The first thing to try is to increase the number of epochs."
   ]
  },
  {
   "cell_type": "code",
   "execution_count": null,
   "id": "seven-intervention",
   "metadata": {},
   "outputs": [],
   "source": [
    "prediction = ic_classifier.predict(data, initial_args={\"ContentType\": \"application/x-image\"})\n",
    "probs = json.loads(prediction)\n",
    "\n",
    "print(probs)"
   ]
  },
  {
   "cell_type": "markdown",
   "id": "technological-analysis",
   "metadata": {},
   "source": [
    "And make it pretty:"
   ]
  },
  {
   "cell_type": "code",
   "execution_count": null,
   "id": "psychological-contributor",
   "metadata": {},
   "outputs": [],
   "source": [
    "figure(num=None, figsize=(8, 5), dpi=80, facecolor='w', edgecolor='k')\n",
    "plt.bar(range(10), probs)\n",
    "plt.xticks(range(10), labels)\n",
    "plt.show()"
   ]
  },
  {
   "cell_type": "code",
   "execution_count": null,
   "id": "corresponding-while",
   "metadata": {},
   "outputs": [],
   "source": [
    "index_of_prediction = np.argmax(probs)\n",
    "label_of_prediciton = labels[index_of_prediction]\n",
    "\n",
    "print(\"This looks like a {}.\".format(label_of_prediciton))"
   ]
  },
  {
   "cell_type": "markdown",
   "id": "bearing-generator",
   "metadata": {},
   "source": [
    "## Clean up\n",
    "\n",
    "Now let's tear down the endpoint as we are charged whilst it's up and running. "
   ]
  },
  {
   "cell_type": "code",
   "execution_count": null,
   "id": "cordless-strike",
   "metadata": {},
   "outputs": [],
   "source": [
    "ic_classifier.delete_endpoint()"
   ]
  },
  {
   "cell_type": "code",
   "execution_count": null,
   "id": "classical-packaging",
   "metadata": {},
   "outputs": [],
   "source": []
  }
 ],
 "metadata": {
  "kernelspec": {
   "display_name": "conda_python3",
   "language": "python",
   "name": "conda_python3"
  },
  "language_info": {
   "codemirror_mode": {
    "name": "ipython",
    "version": 3
   },
   "file_extension": ".py",
   "mimetype": "text/x-python",
   "name": "python",
   "nbconvert_exporter": "python",
   "pygments_lexer": "ipython3",
   "version": "3.6.10"
  }
 },
 "nbformat": 4,
 "nbformat_minor": 5
}
